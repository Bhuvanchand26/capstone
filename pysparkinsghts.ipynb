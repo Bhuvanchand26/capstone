{
 "cells": [
  {
   "cell_type": "code",
   "execution_count": 1,
   "id": "32b1744e-7732-45a7-bfca-19b2e22f620c",
   "metadata": {},
   "outputs": [],
   "source": [
    "from pyspark.sql import SparkSession\n",
    "from pyspark.sql.types import *\n",
    "from pyspark.sql.functions import *\n",
    "\n",
    "# Create a SparkSession\n",
    "spark = SparkSession.builder.appName(\"Car Data Analysis\").getOrCreate()\n",
    "\n",
    "# Define the schema\n",
    "schema = StructType([\n",
    "    StructField(\"Unnamed: 0\", StringType(), True),\n",
    "    StructField(\"vin\", StringType(), True),\n",
    "    StructField(\"firstSeen\", StringType(), True),\n",
    "    StructField(\"lastSeen\", StringType(), True),\n",
    "    StructField(\"msrp\", IntegerType(), True),\n",
    "    StructField(\"askPrice\", IntegerType(), True),\n",
    "    StructField(\"mileage\", IntegerType(), True),\n",
    "    StructField(\"isNew\", BooleanType(), True),\n",
    "    StructField(\"brandName\", StringType(), True),\n",
    "    StructField(\"modelName\", StringType(), True),\n",
    "    StructField(\"dealerID\", IntegerType(), True),\n",
    "    StructField(\"vf_AirBagLocFront\", StringType(), True),\n",
    "    StructField(\"vf_AirBagLocSide\", StringType(), True),\n",
    "    StructField(\"vf_BodyClass\", StringType(), True),\n",
    "    StructField(\"vf_DisplacementCC\", DoubleType(), True),\n",
    "    StructField(\"vf_DisplacementCI\", DoubleType(), True),\n",
    "    StructField(\"vf_DisplacementL\", DoubleType(), True),\n",
    "    StructField(\"vf_Doors\", IntegerType(), True),\n",
    "    StructField(\"vf_EngineCylinders\", IntegerType(), True),\n",
    "    StructField(\"vf_FuelTypePrimary\", StringType(), True),\n",
    "    StructField(\"vf_Make\", StringType(), True),\n",
    "    StructField(\"vf_MakeID\", IntegerType(), True),\n",
    "    StructField(\"vf_Manufacturer\", StringType(), True),\n",
    "    StructField(\"vf_ManufacturerId\", IntegerType(), True),\n",
    "    StructField(\"vf_Model\", StringType(), True),\n",
    "    StructField(\"vf_ModelID\", IntegerType(), True),\n",
    "    StructField(\"vf_ModelYear\", IntegerType(), True),\n",
    "    StructField(\"vf_PlantCity\", StringType(), True),\n",
    "    StructField(\"vf_PlantCountry\", StringType(), True),\n",
    "    StructField(\"vf_PlantState\", StringType(), True),\n",
    "    StructField(\"vf_SeatBeltsAll\", StringType(), True),\n",
    "    StructField(\"vf_VIN\", StringType(), True),\n",
    "    StructField(\"vf_VehicleType\", StringType(), True)\n",
    "])\n"
   ]
  },
  {
   "cell_type": "code",
   "execution_count": null,
   "id": "43d58f46-9773-43c6-b894-b3a89263b35c",
   "metadata": {},
   "outputs": [],
   "source": [
    "from pyspark.sql import SparkSession\n",
    "from pyspark.sql.types import *\n",
    "from pyspark.sql.functions import *\n",
    "# Initialize SparkSession with Hive support\n",
    "spark = SparkSession \\\n",
    "    .builder \\\n",
    "    .appName(\"Spark with Hive on EMR\") \\\n",
    "    .config(\"hive.metastore.uris\", \"thrift://xxxxxxxx:9083\") \\\n",
    "    .enableHiveSupport() \\\n",
    "    .getOrCreate()\n",
    "\n",
    "# Show databases\n",
    "spark.sql(\"SHOW DATABASES\").show()\n",
    "\n",
    "# Create a DataFrame from a fully qualified table name\n",
    "df = spark.table(\"my_database.my_table\")\n",
    "\n",
    "# Show the DataFrame\n",
    "df.show()\n"
   ]
  },
  {
   "cell_type": "code",
   "execution_count": 2,
   "id": "d2b49294-f573-4d68-a35e-c241073c24a8",
   "metadata": {},
   "outputs": [],
   "source": [
    "df = spark.read.format(\"csv\") \\\n",
    "    .option(\"header\", \"true\") \\\n",
    "    .option(\"dateFormat\", \"yyyy-MM-dd\") \\\n",
    "    .schema(schema) \\\n",
    "    .load(\"finaldatasettttttttt.csv\")"
   ]
  },
  {
   "cell_type": "code",
   "execution_count": 3,
   "id": "fcdb0006-16e0-4a71-b564-bdcea9883008",
   "metadata": {},
   "outputs": [
    {
     "name": "stdout",
     "output_type": "stream",
     "text": [
      "root\n",
      " |-- Unnamed: 0: string (nullable = true)\n",
      " |-- vin: string (nullable = true)\n",
      " |-- firstSeen: string (nullable = true)\n",
      " |-- lastSeen: string (nullable = true)\n",
      " |-- msrp: integer (nullable = true)\n",
      " |-- askPrice: integer (nullable = true)\n",
      " |-- mileage: integer (nullable = true)\n",
      " |-- isNew: boolean (nullable = true)\n",
      " |-- brandName: string (nullable = true)\n",
      " |-- modelName: string (nullable = true)\n",
      " |-- dealerID: integer (nullable = true)\n",
      " |-- vf_AirBagLocFront: string (nullable = true)\n",
      " |-- vf_AirBagLocSide: string (nullable = true)\n",
      " |-- vf_BodyClass: string (nullable = true)\n",
      " |-- vf_DisplacementCC: double (nullable = true)\n",
      " |-- vf_DisplacementCI: double (nullable = true)\n",
      " |-- vf_DisplacementL: double (nullable = true)\n",
      " |-- vf_Doors: integer (nullable = true)\n",
      " |-- vf_EngineCylinders: integer (nullable = true)\n",
      " |-- vf_FuelTypePrimary: string (nullable = true)\n",
      " |-- vf_Make: string (nullable = true)\n",
      " |-- vf_MakeID: integer (nullable = true)\n",
      " |-- vf_Manufacturer: string (nullable = true)\n",
      " |-- vf_ManufacturerId: integer (nullable = true)\n",
      " |-- vf_Model: string (nullable = true)\n",
      " |-- vf_ModelID: integer (nullable = true)\n",
      " |-- vf_ModelYear: integer (nullable = true)\n",
      " |-- vf_PlantCity: string (nullable = true)\n",
      " |-- vf_PlantCountry: string (nullable = true)\n",
      " |-- vf_PlantState: string (nullable = true)\n",
      " |-- vf_SeatBeltsAll: string (nullable = true)\n",
      " |-- vf_VIN: string (nullable = true)\n",
      " |-- vf_VehicleType: string (nullable = true)\n",
      "\n"
     ]
    }
   ],
   "source": [
    "df.printSchema()"
   ]
  },
  {
   "cell_type": "code",
   "execution_count": null,
   "id": "8eaf7aa4-3e65-4335-a775-37988672c328",
   "metadata": {},
   "outputs": [],
   "source": []
  },
  {
   "cell_type": "code",
   "execution_count": 26,
   "id": "3fb48be6-da4d-4996-bf4c-7e12e1132f61",
   "metadata": {},
   "outputs": [
    {
     "name": "stdout",
     "output_type": "stream",
     "text": [
      "+--------------------+------------------+\n",
      "|  vf_FuelTypePrimary| Manfacture price |\n",
      "+--------------------+------------------+\n",
      "|Compressed Natura...|           52988.0|\n",
      "|              Diesel| 53868.92971246006|\n",
      "|            Electric| 26795.82932166302|\n",
      "|Flexible Fuel Veh...|28850.899731423455|\n",
      "|            Gasoline| 26629.31402034039|\n",
      "|Liquefied Petrole...|           54880.0|\n",
      "+--------------------+------------------+\n",
      "\n"
     ]
    }
   ],
   "source": [
    "avg_displacement_df = df.groupBy(\"vf_FuelTypePrimary\") \\\n",
    "    .agg(\n",
    "        avg(\"msrp\").alias(\"Manfacture price \")\n",
    "    ) \\\n",
    "    .orderBy(\"vf_FuelTypePrimary\")\n",
    "\n",
    "avg_displacement_df.show()\n"
   ]
  },
  {
   "cell_type": "code",
   "execution_count": 27,
   "id": "f028dcb9-d4e3-46fa-bd90-6f516e7817fe",
   "metadata": {},
   "outputs": [
    {
     "name": "stdout",
     "output_type": "stream",
     "text": [
      "Number of cars by manufacturer:\n",
      "+--------------------+-----+\n",
      "|     vf_Manufacturer|count|\n",
      "+--------------------+-----+\n",
      "|HONDA MFG. INDIAN...|  244|\n",
      "|   ALFA ROMEO S.P.A.|  851|\n",
      "|AUTO ALLIANCE INT...|  212|\n",
      "|FORD MOTOR COMPAN...| 3212|\n",
      "|HONDA OF THE U.K....|   32|\n",
      "|RENAULT SAMSUNG M...|   49|\n",
      "|TOYOTA MOTOR NORT...|  777|\n",
      "|FUJI HEAVY INDUST...|  457|\n",
      "|     FCA CANADA INC.| 4734|\n",
      "|MAZDA MOTOR MANUF...|  185|\n",
      "|MAZDA MOTOR CORPO...|  307|\n",
      "|NEW UNITED MOTOR ...|   74|\n",
      "|              BMW AG|   12|\n",
      "|  GENERAL MOTORS LLC|46290|\n",
      "|CHRYSLER DE MEXIC...| 1639|\n",
      "|HONDA OF AMERICA ...| 3085|\n",
      "|TOYOTA MOTOR MANU...|  263|\n",
      "|                AUDI| 3977|\n",
      "|  MERCEDES-BENZ CARS|   38|\n",
      "|FORD MOTOR COMPAN...|14224|\n",
      "+--------------------+-----+\n",
      "only showing top 20 rows\n",
      "\n"
     ]
    }
   ],
   "source": [
    "cars_by_manufacturer = df.groupBy(\"vf_Manufacturer\").count()\n",
    "print(\"Number of cars by manufacturer:\")\n",
    "cars_by_manufacturer.show()"
   ]
  },
  {
   "cell_type": "code",
   "execution_count": 17,
   "id": "8629dd18-c1a3-4ffe-b3b5-0dd66532f837",
   "metadata": {},
   "outputs": [
    {
     "name": "stdout",
     "output_type": "stream",
     "text": [
      "Average price by model year:\n",
      "+------------+------------------+\n",
      "|vf_ModelYear|     avg(askPrice)|\n",
      "+------------+------------------+\n",
      "|        1998|               0.0|\n",
      "|        1999|1090.7272727272727|\n",
      "|        2000|1022.2068965517242|\n",
      "|        2001| 2385.904761904762|\n",
      "|        2002| 2597.990909090909|\n",
      "|        2003|1712.2463768115942|\n",
      "|        2004|1895.4966887417218|\n",
      "|        2005|2614.2580645161293|\n",
      "|        2006|3108.5838926174497|\n",
      "|        2007| 4396.276635514018|\n",
      "|        2008|3940.7547408343867|\n",
      "|        2009| 4973.787786259542|\n",
      "|        2010| 7486.628922237381|\n",
      "|        2011| 9208.490215264188|\n",
      "|        2012| 9416.134934497817|\n",
      "|        2013|         11448.506|\n",
      "|        2014|14361.985345997286|\n",
      "|        2015|17672.901679271887|\n",
      "|        2016|19693.426313541222|\n",
      "|        2017|20210.724539614563|\n",
      "+------------+------------------+\n",
      "only showing top 20 rows\n",
      "\n"
     ]
    }
   ],
   "source": [
    "##Average price by model year\n",
    "avg_price_by_model_year = df.groupBy(\"vf_ModelYear\").agg({\"askPrice\": \"avg\"}).orderBy(\"vf_ModelYear\")\n",
    "print(\"Average price by model year:\")\n",
    "avg_price_by_model_year.show()"
   ]
  },
  {
   "cell_type": "code",
   "execution_count": 28,
   "id": "81c6089d-4534-471e-af20-a73f33d62c9a",
   "metadata": {},
   "outputs": [
    {
     "name": "stdout",
     "output_type": "stream",
     "text": [
      "+--------------------+------------------+\n",
      "|     vf_Manufacturer|      avg_askPrice|\n",
      "+--------------------+------------------+\n",
      "|KARMA AUTOMOTIVE LLC|           79980.0|\n",
      "|                AUDI|49551.877294443046|\n",
      "|   ALFA ROMEO S.P.A.| 47563.20564042303|\n",
      "|MERCEDES-BENZ OF ...|37575.608695652176|\n",
      "|       FORD WERKE AG|29354.846153846152|\n",
      "+--------------------+------------------+\n",
      "\n"
     ]
    }
   ],
   "source": [
    "###Find the top 5 manufacturers (vf_Manufacturer) with the highest average askPrice:\n",
    "from pyspark.sql.functions import desc\n",
    "top_manufacturers = df.groupBy(\"vf_Manufacturer\").agg(avg(\"askPrice\").alias(\"avg_askPrice\")) \\\n",
    "                      .orderBy(desc(\"avg_askPrice\")).limit(5)\n",
    "top_manufacturers.show()\n"
   ]
  },
  {
   "cell_type": "code",
   "execution_count": 29,
   "id": "3a2a68f6-47c2-4c4d-a17b-61ccd229a8c8",
   "metadata": {},
   "outputs": [
    {
     "name": "stdout",
     "output_type": "stream",
     "text": [
      "+---------+---------+--------------------+--------+\n",
      "|brandName|modelName|      vf_VehicleType|askPrice|\n",
      "+---------+---------+--------------------+--------+\n",
      "|CHEVROLET|Silverado|  INCOMPLETE VEHICLE|   40469|\n",
      "|CHEVROLET|Silverado|  INCOMPLETE VEHICLE|   40469|\n",
      "|CHEVROLET|Silverado|  INCOMPLETE VEHICLE|   40469|\n",
      "|     FORD| Explorer|MULTIPURPOSE PASS...|  383747|\n",
      "|     FORD|   Fiesta|       PASSENGER CAR|  174460|\n",
      "|     FORD| Explorer|MULTIPURPOSE PASS...|  383747|\n",
      "|     FORD|   Fiesta|       PASSENGER CAR|  174460|\n",
      "|CHEVROLET|  Express|                 BUS|   22998|\n",
      "|CHEVROLET|  Express|                 BUS|   22998|\n",
      "|      GMC|   Sierra|              TRUCK |   80145|\n",
      "+---------+---------+--------------------+--------+\n",
      "\n"
     ]
    }
   ],
   "source": [
    "####Determine the brandName and modelName of vehicles with the highest askPrice within each vf_VehicleType:\n",
    "max_price_per_type = df.groupBy(\"vf_VehicleType\").agg(max(\"askPrice\").alias(\"max_askPrice\"))\n",
    "result = df.join(max_price_per_type, \"vf_VehicleType\").filter(col(\"askPrice\") == col(\"max_askPrice\")) \\\n",
    "           .select(\"brandName\", \"modelName\", \"vf_VehicleType\", \"askPrice\")\n",
    "result.show()"
   ]
  },
  {
   "cell_type": "code",
   "execution_count": 22,
   "id": "2f3a476b-db9d-4650-8f40-3d692d080645",
   "metadata": {},
   "outputs": [
    {
     "name": "stdout",
     "output_type": "stream",
     "text": [
      "+--------------------+------------------+\n",
      "|     vf_Manufacturer|      avg_askPrice|\n",
      "+--------------------+------------------+\n",
      "|NEW UNITED MOTOR ...|            6695.0|\n",
      "|NISSAN MEXICANA S...|12288.238095238095|\n",
      "|   VOLVO CAR USA LLC|           12747.5|\n",
      "|TOYOTA MOTOR CORP...|           13183.4|\n",
      "|MAZDA MOTOR MANUF...|13250.035087719298|\n",
      "| HONDA MOTOR CO. LTD|15486.461538461539|\n",
      "|HONDA MFG. INDIAN...|       15674.59375|\n",
      "|TOYOTA MOTOR MANU...|15776.489130434782|\n",
      "|HYUNDAI-KIA AMERI...|16088.232558139534|\n",
      "|CHRYSLER DE MEXIC...| 16350.25352112676|\n",
      "|MAZDA MOTOR CORPO...| 16414.63963963964|\n",
      "|     HONDA DE MEXICO| 16831.57894736842|\n",
      "|RENAULT SAMSUNG M...|        16882.9375|\n",
      "|AUTO ALLIANCE INT...|16884.816666666666|\n",
      "|HONDA OF CANADA M...|17710.064516129034|\n",
      "|              BMW AG|17874.666666666668|\n",
      "|FORD MOTOR COMPAN...|17963.491614758026|\n",
      "|HONDA OF THE U.K....|           18147.5|\n",
      "|NISSAN MOTOR COMP...| 18149.16853932584|\n",
      "|     FCA CANADA INC.|18342.651954602774|\n",
      "+--------------------+------------------+\n",
      "only showing top 20 rows\n",
      "\n"
     ]
    }
   ],
   "source": [
    "##Calculate the average askPrice for vehicles manufactured by each vf_Manufacturer, \n",
    "# but only for vehicles with mileage between 20000 and 50000\n",
    "average_price_filtered = df.filter((df[\"mileage\"] >= 20000) & (df[\"mileage\"] <= 50000)) \\\n",
    "                           .groupBy(\"vf_Manufacturer\") \\\n",
    "                           .agg(avg(\"askPrice\").alias(\"avg_askPrice\")) \\\n",
    "                           .orderBy(\"avg_askPrice\")\n",
    "average_price_filtered.show()\n"
   ]
  },
  {
   "cell_type": "code",
   "execution_count": null,
   "id": "db4f300f-4fe3-451d-9a6b-1c2b9a403fe6",
   "metadata": {},
   "outputs": [],
   "source": [
    "\n"
   ]
  },
  {
   "cell_type": "code",
   "execution_count": 12,
   "id": "194a17a2-25f4-4f3c-9305-ecaf16ecfa2d",
   "metadata": {},
   "outputs": [
    {
     "name": "stdout",
     "output_type": "stream",
     "text": [
      "+----------+----------------------+\n",
      "|   vf_Make|percentage_over_2000cc|\n",
      "+----------+----------------------+\n",
      "|     ACURA|     72.13375796178345|\n",
      "|   HYUNDAI|    33.098591549295776|\n",
      "|      FIAT|                   0.0|\n",
      "|    TOYOTA|    56.470588235294116|\n",
      "|    SUBARU|     61.97802197802198|\n",
      "|    NISSAN|     70.24679170779862|\n",
      "|  INFINITI|     95.94594594594594|\n",
      "|      FORD|    57.574915216545286|\n",
      "|      AUDI|    15.111893386975106|\n",
      "|ALFA ROMEO|     7.050528789659224|\n",
      "|     DODGE|      99.6787744007907|\n",
      "| CHEVROLET|    62.987734087123314|\n",
      "|   MERCURY|                 100.0|\n",
      "|     LEXUS|     98.47560975609755|\n",
      "|      JEEP|     90.96780704410132|\n",
      "|     VOLVO|     55.55555555555556|\n",
      "|     MAZDA|     65.88983050847457|\n",
      "|       BMW|     77.71084337349397|\n",
      "|VOLKSWAGEN|    53.608247422680414|\n",
      "|   PONTIAC|     95.91836734693877|\n",
      "+----------+----------------------+\n",
      "only showing top 20 rows\n",
      "\n"
     ]
    }
   ],
   "source": [
    "# Percentage of vehicles with vf_DisplacementCC > 2000 per vf_Make\n",
    "percentage_over_2000cc = df.groupBy(\"vf_Make\") \\\n",
    "                           .agg((sum(expr(\"CASE WHEN vf_DisplacementCC > 2000 THEN 1 ELSE 0 END\")) / count(\"*\") * 100)\n",
    "                            .alias(\"percentage_over_2000cc\"))\n",
    "\n",
    "percentage_over_2000cc.show()"
   ]
  },
  {
   "cell_type": "code",
   "execution_count": 13,
   "id": "2057d791-1083-424f-be33-718c73f19f68",
   "metadata": {},
   "outputs": [
    {
     "name": "stdout",
     "output_type": "stream",
     "text": [
      "+--------------------+----------------------------+\n",
      "|     vf_Manufacturer|percentage_high_displacement|\n",
      "+--------------------+----------------------------+\n",
      "|HONDA MFG. INDIAN...|                         0.0|\n",
      "|   ALFA ROMEO S.P.A.|                         0.0|\n",
      "|AUTO ALLIANCE INT...|                       100.0|\n",
      "|FORD MOTOR COMPAN...|           50.15566625155666|\n",
      "|HONDA OF THE U.K....|                         0.0|\n",
      "|RENAULT SAMSUNG M...|                         0.0|\n",
      "|TOYOTA MOTOR NORT...|          43.371943371943374|\n",
      "|FUJI HEAVY INDUST...|            3.50109409190372|\n",
      "|     FCA CANADA INC.|                       100.0|\n",
      "|MAZDA MOTOR MANUF...|                         0.0|\n",
      "|MAZDA MOTOR CORPO...|                         0.0|\n",
      "|NEW UNITED MOTOR ...|                         0.0|\n",
      "|              BMW AG|           8.333333333333332|\n",
      "|  GENERAL MOTORS LLC|           52.93799956794124|\n",
      "|CHRYSLER DE MEXIC...|          11.714460036607688|\n",
      "|HONDA OF AMERICA ...|            42.0097244732577|\n",
      "|TOYOTA MOTOR MANU...|          6.4638783269961975|\n",
      "|                AUDI|                         0.0|\n",
      "|  MERCEDES-BENZ CARS|           2.631578947368421|\n",
      "|FORD MOTOR COMPAN...|           39.15916760404949|\n",
      "+--------------------+----------------------------+\n",
      "only showing top 20 rows\n",
      "\n"
     ]
    }
   ],
   "source": [
    "# Percentage of vehicles with displacement greater than 3000cc per manufacturer\n",
    "high_displacement_percentage = df.groupBy(\"vf_Manufacturer\") \\\n",
    "                                 .agg((expr(\"SUM(CASE WHEN vf_DisplacementCC > 3000 THEN 1 ELSE 0 END)\") / count(\"*\") * 100)\n",
    "                                 .alias(\"percentage_high_displacement\"))\n",
    "\n",
    "high_displacement_percentage.show()"
   ]
  },
  {
   "cell_type": "code",
   "execution_count": 15,
   "id": "e5e9a301-1b62-4fb2-8ff2-3bf9a352d36f",
   "metadata": {},
   "outputs": [
    {
     "name": "stdout",
     "output_type": "stream",
     "text": [
      "+--------------------+-----------------+-----+\n",
      "|  vf_FuelTypePrimary|vf_DisplacementCC|count|\n",
      "+--------------------+-----------------+-----+\n",
      "|            Electric|           3000.0|    2|\n",
      "|Flexible Fuel Veh...|           3500.0| 1069|\n",
      "|Flexible Fuel Veh...|           1600.0|  381|\n",
      "|            Gasoline|           5300.0| 6401|\n",
      "|            Gasoline|           3900.0|   35|\n",
      "|Flexible Fuel Veh...|           3900.0|   46|\n",
      "|            Gasoline|      1343.739248|   20|\n",
      "|            Gasoline|           1798.0|  486|\n",
      "|            Gasoline|           6800.0|    4|\n",
      "|            Gasoline|           5200.0|   42|\n",
      "|            Gasoline|           3600.0|22137|\n",
      "|            Gasoline|           6000.0|  372|\n",
      "|Flexible Fuel Veh...|           3300.0|    1|\n",
      "|            Gasoline|           1600.0|  811|\n",
      "|            Gasoline|           4608.0|   32|\n",
      "|            Gasoline|      1997.583102|    5|\n",
      "|            Gasoline|       2294.18896|    6|\n",
      "|            Gasoline|           1300.0|   71|\n",
      "|            Gasoline|      1995.944395|   27|\n",
      "|            Gasoline|           2000.0|12571|\n",
      "+--------------------+-----------------+-----+\n",
      "only showing top 20 rows\n",
      "\n"
     ]
    }
   ],
   "source": [
    "# Distribution of displacement across different fuel types\n",
    "displacement_distribution = df.groupBy(\"vf_FuelTypePrimary\", \"vf_DisplacementCC\").agg(count(\"*\").alias(\"count\"))\n",
    "\n",
    "displacement_distribution.show()"
   ]
  },
  {
   "cell_type": "code",
   "execution_count": 31,
   "id": "da641e31-30fc-423f-a49b-a87caaaf6fb9",
   "metadata": {},
   "outputs": [
    {
     "name": "stdout",
     "output_type": "stream",
     "text": [
      "+-----------+------------------+------------+\n",
      "|vehicle_age|       avg_mileage|num_vehicles|\n",
      "+-----------+------------------+------------+\n",
      "|          4|27.917581808097616|        9015|\n",
      "|          5|  597.303719834674|       22501|\n",
      "|          6|2639.1694256447777|       21868|\n",
      "|          7|10944.221755888651|       11675|\n",
      "|          8|14720.531994873985|       11705|\n",
      "|          9| 24526.18805281374|        7801|\n",
      "|         10| 32566.13459972863|        3685|\n",
      "|         11|         41611.226|        3000|\n",
      "|         12| 51708.18864628821|        2290|\n",
      "|         13| 56723.62866927593|        2044|\n",
      "|         14| 69079.79399727148|        1466|\n",
      "|         15|  78954.8427480916|         655|\n",
      "|         16| 82076.60682680152|         791|\n",
      "|         17| 84777.83738317757|         535|\n",
      "|         18| 95146.63087248322|         298|\n",
      "|         19| 83492.34946236559|         186|\n",
      "|         20| 82264.45033112583|         151|\n",
      "|         21| 92154.02898550725|         138|\n",
      "|         22|106294.15454545454|         110|\n",
      "|         23| 81899.45238095238|          42|\n",
      "+-----------+------------------+------------+\n",
      "only showing top 20 rows\n",
      "\n"
     ]
    }
   ],
   "source": [
    "vehicle_age_distribution = df_with_age.groupBy(\"vehicle_age\") \\\n",
    "    .agg(\n",
    "        avg(\"mileage\").alias(\"avg_mileage\"),\n",
    "        count(\"*\").alias(\"num_vehicles\")\n",
    "    ) \\\n",
    "    .orderBy(\"vehicle_age\")\n",
    "\n",
    "vehicle_age_distribution.show()"
   ]
  },
  {
   "cell_type": "code",
   "execution_count": null,
   "id": "6c799c4b-3b74-4804-853a-18d453145320",
   "metadata": {},
   "outputs": [],
   "source": []
  }
 ],
 "metadata": {
  "kernelspec": {
   "display_name": "Python 3 (ipykernel)",
   "language": "python",
   "name": "python3"
  },
  "language_info": {
   "codemirror_mode": {
    "name": "ipython",
    "version": 3
   },
   "file_extension": ".py",
   "mimetype": "text/x-python",
   "name": "python",
   "nbconvert_exporter": "python",
   "pygments_lexer": "ipython3",
   "version": "3.11.8"
  }
 },
 "nbformat": 4,
 "nbformat_minor": 5
}
